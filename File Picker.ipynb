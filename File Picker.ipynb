{
 "cells": [
  {
   "cell_type": "markdown",
   "metadata": {},
   "source": [
    "# File Picker\n",
    "\n",
    "## The following shows how to add a File Picker to your notebook\n",
    "\n",
    "### It uses `IPython.display.FileLinks`"
   ]
  },
  {
   "cell_type": "code",
   "execution_count": 1,
   "metadata": {
    "collapsed": false
   },
   "outputs": [
    {
     "name": "stderr",
     "output_type": "stream",
     "text": [
      ":0: FutureWarning: IPython widgets are experimental and may change in the future.\n"
     ]
    }
   ],
   "source": [
    "from __future__ import print_function\n",
    "from IPython.html.widgets import interact, interactive, fixed\n",
    "from IPython.html import widgets"
   ]
  },
  {
   "cell_type": "code",
   "execution_count": 2,
   "metadata": {
    "collapsed": false
   },
   "outputs": [
    {
     "data": {
      "text/html": [
       "./<br>\n",
       "&nbsp;&nbsp;<a href='./MySQL in R.ipynb' target='_blank'>MySQL in R.ipynb</a><br>\n",
       "&nbsp;&nbsp;<a href='./File Picker.ipynb' target='_blank'>File Picker.ipynb</a><br>\n",
       "&nbsp;&nbsp;<a href='./File Picker - playing around.ipynb' target='_blank'>File Picker - playing around.ipynb</a><br>\n",
       "&nbsp;&nbsp;<a href='./a web page.html' target='_blank'>a web page.html</a><br>\n",
       "&nbsp;&nbsp;<a href='./This is a text file.txt' target='_blank'>This is a text file.txt</a><br>\n",
       "&nbsp;&nbsp;<a href='./Handling Sensitive Information.ipynb' target='_blank'>Handling Sensitive Information.ipynb</a><br>"
      ],
      "text/plain": [
       "./\n",
       "  MySQL in R.ipynb\n",
       "  File Picker.ipynb\n",
       "  File Picker - playing around.ipynb\n",
       "  a web page.html\n",
       "  This is a text file.txt\n",
       "  Handling Sensitive Information.ipynb"
      ]
     },
     "metadata": {},
     "output_type": "display_data"
    }
   ],
   "source": [
    "@interact(file_suffixes=\"txt,ipynb,html\", recursive=False)\n",
    "def download_files(file_suffixes, recursive):\n",
    "    from IPython.display import FileLink, FileLinks, display\n",
    "    local_files = FileLinks(\".\", recursive=recursive)\n",
    "    local_files.included_suffixes = [\".\" + x for x in file_suffixes.split(\",\")]\n",
    "    display(local_files)"
   ]
  },
  {
   "cell_type": "code",
   "execution_count": null,
   "metadata": {
    "collapsed": true
   },
   "outputs": [],
   "source": []
  }
 ],
 "metadata": {
  "kernelspec": {
   "display_name": "Python 3",
   "language": "python",
   "name": "python3"
  },
  "language_info": {
   "codemirror_mode": {
    "name": "ipython",
    "version": 3
   },
   "file_extension": ".py",
   "mimetype": "text/x-python",
   "name": "python",
   "nbconvert_exporter": "python",
   "pygments_lexer": "ipython3",
   "version": "3.4.3"
  }
 },
 "nbformat": 4,
 "nbformat_minor": 0
}
