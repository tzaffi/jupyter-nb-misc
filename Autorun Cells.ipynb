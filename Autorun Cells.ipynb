{
 "cells": [
  {
   "cell_type": "markdown",
   "metadata": {
    "is_autorun": false,
    "run_control": {
     "read_only": false
    }
   },
   "source": [
    "# Autorun Cells\n",
    "\n",
    "## This notebook demonstrates an implementation of Autorun Cells via an IPython notebook extension `autorun.js`.\n",
    "\n",
    "## Autorun Cells run automatically any time the notebook is loaded or the IPython kernel is restarted\n",
    "\n",
    "## You make a cell autorun by editing it and clicking on the **lightning button** in the toolbar, or using the keyboard combination `ALT-x`"
   ]
  },
  {
   "cell_type": "markdown",
   "metadata": {},
   "source": [
    "### For example Consider the following cell which initialized the variable `x`. Please **DO NOT** run the cell."
   ]
  },
  {
   "cell_type": "code",
   "execution_count": null,
   "metadata": {
    "collapsed": true,
    "is_autorun": false,
    "run_control": {
     "read_only": false
    }
   },
   "outputs": [],
   "source": [
    "x = 5"
   ]
  },
  {
   "cell_type": "markdown",
   "metadata": {},
   "source": [
    "### If you DO run the next cell, you'll get a `NameError` as `x` is yet to be defined:"
   ]
  },
  {
   "cell_type": "code",
   "execution_count": 1,
   "metadata": {
    "collapsed": false,
    "is_autorun": false,
    "run_control": {
     "read_only": false
    }
   },
   "outputs": [
    {
     "ename": "NameError",
     "evalue": "name 'x' is not defined",
     "output_type": "error",
     "traceback": [
      "\u001b[1;31m---------------------------------------------------------------------------\u001b[0m",
      "\u001b[1;31mNameError\u001b[0m                                 Traceback (most recent call last)",
      "\u001b[1;32m<ipython-input-1-bb8f345173c5>\u001b[0m in \u001b[0;36m<module>\u001b[1;34m()\u001b[0m\n\u001b[1;32m----> 1\u001b[1;33m \u001b[0mprint\u001b[0m\u001b[1;33m(\u001b[0m\u001b[1;34m\"the value of x is\"\u001b[0m\u001b[1;33m,\u001b[0m \u001b[0mx\u001b[0m\u001b[1;33m)\u001b[0m\u001b[1;33m\u001b[0m\u001b[0m\n\u001b[0m",
      "\u001b[1;31mNameError\u001b[0m: name 'x' is not defined"
     ]
    }
   ],
   "source": [
    "print(\"the value of x is\", x)"
   ]
  },
  {
   "cell_type": "markdown",
   "metadata": {},
   "source": [
    "### On the other hand, the following cell is marked as autorun so the variable `y` **SHOULD** be available even without explicitly running the cell below. So again **DO NOT** run the cell:"
   ]
  },
  {
   "cell_type": "code",
   "execution_count": 1,
   "metadata": {
    "collapsed": true,
    "is_autorun": true,
    "run_control": {
     "read_only": false
    }
   },
   "outputs": [],
   "source": [
    "y = 10**10"
   ]
  },
  {
   "cell_type": "markdown",
   "metadata": {
    "collapsed": true,
    "is_autorun": false,
    "run_control": {
     "read_only": false
    }
   },
   "source": [
    "### Now if you run the next cell, everything should be just fine:"
   ]
  },
  {
   "cell_type": "code",
   "execution_count": 2,
   "metadata": {
    "collapsed": false
   },
   "outputs": [
    {
     "name": "stdout",
     "output_type": "stream",
     "text": [
      "the value of y is 10000000000\n"
     ]
    }
   ],
   "source": [
    "print(\"the value of y is\", y)"
   ]
  },
  {
   "cell_type": "markdown",
   "metadata": {},
   "source": [
    "# INSTALLATION\n",
    "1. Make sure to install [autorun.js](./extensions/autorun.js) in the correct extensions directory on your system. This is explained [here](https://github.com/ipython-contrib/IPython-notebook-extensions/wiki#manual-installation)\n",
    "2. You should also modify your `~/.ipython/profile_default/static/custom/custom.js` as explained [here](https://github.com/ipython-contrib/IPython-notebook-extensions/wiki#adding-the-extension-to-customjs). On my system, I ended up putting the following code snippent inside my `custom.js`:\n",
    "\n",
    "```javascript\n",
    "var myNBextensions = [ \n",
    "    'IPython-notebook-extensions-3.x/usability/hide_input/main',\n",
    "    'IPython-notebook-extensions-3.x/usability/read-only',\n",
    "    'EdLab-notebook-extensions/autorun'\n",
    "];\n",
    "\n",
    "$([IPython.events]).on(\"notebook_loaded.Notebook\", function () {\n",
    "    console.log(\"config.js says that notebook_loaded.Notebook\");\n",
    "    console.log(\"LOADING: \", myNBextensions);\n",
    "    myNBextensions.forEach(function(elt){ IPython.load_extensions(elt); });\n",
    "})\n",
    "```"
   ]
  },
  {
   "cell_type": "code",
   "execution_count": null,
   "metadata": {
    "collapsed": true
   },
   "outputs": [],
   "source": []
  }
 ],
 "metadata": {
  "kernelspec": {
   "display_name": "Python 3",
   "language": "python",
   "name": "python3"
  },
  "language_info": {
   "codemirror_mode": {
    "name": "ipython",
    "version": 3
   },
   "file_extension": ".py",
   "mimetype": "text/x-python",
   "name": "python",
   "nbconvert_exporter": "python",
   "pygments_lexer": "ipython3",
   "version": "3.4.3"
  }
 },
 "nbformat": 4,
 "nbformat_minor": 0
}
