{
 "cells": [
  {
   "cell_type": "markdown",
   "metadata": {},
   "source": [
    "# To execute all cells above a particular cell, copy and paste the `%%html` cell below.\n",
    "\n",
    "## Use in combination with:\n",
    "###  [Hiding Code Cells.ipynb](Hiding Code Cells.ipynb) - for hiding cells\n",
    "###  [Locking Down Code Cells.ipynb](Locking Down Code Cells.ipynb) - for making cells readonly"
   ]
  },
  {
   "cell_type": "code",
   "execution_count": null,
   "metadata": {
    "collapsed": false
   },
   "outputs": [],
   "source": [
    "try:\n",
    "    n\n",
    "except NameError:\n",
    "    n = 1"
   ]
  },
  {
   "cell_type": "code",
   "execution_count": null,
   "metadata": {
    "collapsed": false
   },
   "outputs": [],
   "source": [
    "n += 1\n",
    "print(n)"
   ]
  },
  {
   "cell_type": "code",
   "execution_count": null,
   "metadata": {
    "collapsed": false
   },
   "outputs": [],
   "source": [
    "n += 1\n",
    "print(n)"
   ]
  },
  {
   "cell_type": "code",
   "execution_count": 1,
   "metadata": {
    "collapsed": false
   },
   "outputs": [
    {
     "data": {
      "text/html": [
       "<div style=\"background-color:gainsboro; border:solid black; width:500px; height:100px; text-align:center; padding-top:30px; padding-bottom:30px;\">\n",
       "    <button onclick=\"run_all_above()\">RUN ALL ABOVE</button>\n",
       "</div>\n",
       "<script type=\"text/Javascript\">\n",
       "    function run_all_above(){\n",
       "        console.log(\"Run all cells above this one and go to next one\");        \n",
       "        var nb = IPython.notebook;\n",
       "        var curr_cell = nb.get_selected_index();\n",
       "        console.log(\"CURR CELL: \", nb.get_selected_index());\n",
       "        nb.execute_cells_above();\n",
       "        nb.select_next();\n",
       "    }\n",
       "</script>"
      ],
      "text/plain": [
       "<IPython.core.display.HTML object>"
      ]
     },
     "metadata": {},
     "output_type": "display_data"
    }
   ],
   "source": [
    "%%html\n",
    "<div style=\"background-color:gainsboro; border:solid black; width:500px; height:100px; text-align:center; padding-top:30px; padding-bottom:30px;\">\n",
    "    <button onclick=\"run_all_above()\">RUN ALL ABOVE</button>\n",
    "</div>\n",
    "<script type=\"text/Javascript\">\n",
    "    function run_all_above(){\n",
    "        console.log(\"Run all cells above this one and go to next one\");        \n",
    "        var nb = IPython.notebook;\n",
    "        var curr_cell = nb.get_selected_index();\n",
    "        nb.execute_cells_above();\n",
    "        nb.select_next();\n",
    "    }\n",
    "</script>"
   ]
  },
  {
   "cell_type": "code",
   "execution_count": null,
   "metadata": {
    "collapsed": false
   },
   "outputs": [],
   "source": [
    "n += 1\n",
    "print(n)"
   ]
  },
  {
   "cell_type": "code",
   "execution_count": null,
   "metadata": {
    "collapsed": true
   },
   "outputs": [],
   "source": []
  }
 ],
 "metadata": {
  "kernelspec": {
   "display_name": "Python 3",
   "language": "python",
   "name": "python3"
  },
  "language_info": {
   "codemirror_mode": {
    "name": "ipython",
    "version": 3
   },
   "file_extension": ".py",
   "mimetype": "text/x-python",
   "name": "python",
   "nbconvert_exporter": "python",
   "pygments_lexer": "ipython3",
   "version": "3.4.3"
  }
 },
 "nbformat": 4,
 "nbformat_minor": 0
}
