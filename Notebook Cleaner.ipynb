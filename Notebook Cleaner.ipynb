{
    "cells": [
        {
            "cell_type": "markdown",
            "metadata": {},
            "source": [
                "# Notebook Cleaner\n",
                "\n",
                "## The following shows how to choose and clean a notebook in your directory tree\n",
                "\n",
                "### Cleaning means: stripping out the outputs and the execution counts\n",
                "\n",
                "#### It uses `json` and the fact that notebooks are pure **JSON**"
            ]
        },
        {
            "cell_type": "code",
            "execution_count": null,
            "metadata": {
                "collapsed": false
            },
            "outputs": [],
            "source": [
                "#from __future__ import print_function\n",
                "from IPython.html.widgets import interact_manual\n",
                "from IPython.html import widgets"
            ]
        },
        {
            "cell_type": "code",
            "execution_count": null,
            "metadata": {
                "collapsed": false
            },
            "outputs": [],
            "source": [
                "def remove_outputs(nb):\n",
                "    \"\"\"remove the outputs from a notebook\"\"\"\n",
                "    for cell in nb['cells']:\n",
                "        if cell['cell_type'] == 'code':\n",
                "            cell['outputs'] = []\n",
                "            cell['execution_count'] = None\n",
                "\n",
                "def clean_notebook(fnames):\n",
                "    import sys\n",
                "    import io\n",
                "    import json \n",
                "    outputs = []\n",
                "    for fname in fnames:    \n",
                "        with io.open(fname, 'r') as f:\n",
                "            nb = json.loads(f.read())\n",
                "        remove_outputs(nb)\n",
                "        fname_out = \"CLEAN_\" + fname\n",
                "        with io.open(fname_out,'w') as fout:\n",
                "            json.dump(nb, fout, sort_keys=True, indent=4)\n",
                "            outputs += [fname_out]\n",
                "    print(\"CLEAN VERSIONS AVAILABLE AT:\\n%s\" % \"\\n\".join(outputs))\n",
                "\n",
                "notebooks = !ls | grep \".ipynb\"\n",
                "nb_widget = widgets.SelectMultiple(description=\"Notebook:\", options=notebooks)\n",
                "\n",
                "interact_manual(clean_notebook, fnames=nb_widget)"
            ]
        },
        {
            "cell_type": "code",
            "execution_count": null,
            "metadata": {
                "collapsed": true
            },
            "outputs": [],
            "source": []
        }
    ],
    "metadata": {
        "kernelspec": {
            "display_name": "Python 3",
            "language": "python",
            "name": "python3"
        },
        "language_info": {
            "codemirror_mode": {
                "name": "ipython",
                "version": 3
            },
            "file_extension": ".py",
            "mimetype": "text/x-python",
            "name": "python",
            "nbconvert_exporter": "python",
            "pygments_lexer": "ipython3",
            "version": "3.4.3"
        }
    },
    "nbformat": 4,
    "nbformat_minor": 0
}