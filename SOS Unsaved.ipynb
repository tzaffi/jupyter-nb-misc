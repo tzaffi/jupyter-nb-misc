{
 "cells": [
  {
   "cell_type": "markdown",
   "metadata": {},
   "source": [
    "# IN CASE YOU CAN'T SAVE YOUR NOTEBOOK IN THE CURRENT WORKING DIRECTORY...\n",
    "## ...copy and paste the following cell into your unsaved notebook\n",
    "# NOTE: THE RESULT WILL BE SAVED INTO `UNSAVED.ipynb`"
   ]
  },
  {
   "cell_type": "code",
   "execution_count": null,
   "metadata": {
    "collapsed": false
   },
   "outputs": [],
   "source": [
    "%%javascript\n",
    "var nb = IPython.notebook;\n",
    "nb.contents.save(\"UNSAVED.ipynb\", {type: \"notebook\", content: nb.toJSON()});"
   ]
  }
 ],
 "metadata": {
  "kernelspec": {
   "display_name": "Python 3",
   "language": "python",
   "name": "python3"
  },
  "language_info": {
   "codemirror_mode": {
    "name": "ipython",
    "version": 3
   },
   "file_extension": ".py",
   "mimetype": "text/x-python",
   "name": "python",
   "nbconvert_exporter": "python",
   "pygments_lexer": "ipython3",
   "version": "3.4.3"
  }
 },
 "nbformat": 4,
 "nbformat_minor": 0
}
